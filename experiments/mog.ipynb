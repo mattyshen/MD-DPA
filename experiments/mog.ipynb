{
 "cells": [
  {
   "cell_type": "code",
   "execution_count": 1,
   "metadata": {},
   "outputs": [],
   "source": [
    "import torch\n",
    "device = torch.device(\"cuda:1\" if torch.cuda.is_available() else \"cpu\")\n",
    "import numpy as np\n",
    "import matplotlib.pyplot as plt\n",
    "import seaborn as sns\n",
    "import sys\n",
    "sys.path.append(\"..\")\n",
    "from dpa.dpa_fit import DPA"
   ]
  },
  {
   "cell_type": "code",
   "execution_count": null,
   "metadata": {},
   "outputs": [],
   "source": [
    "sigma = 1\n",
    "num_samples = 10000\n",
    "mean1 = [0, 0]\n",
    "mean2 = [5, 5]\n",
    "mean3 = [6,-1]\n",
    "cov = [[sigma*sigma, 0], [0, sigma*sigma]]\n",
    "samples1 = np.random.multivariate_normal(mean1, cov, num_samples)\n",
    "samples2 = np.random.multivariate_normal(mean2, cov, num_samples)\n",
    "samples3 = np.random.multivariate_normal(mean3, cov, num_samples)\n",
    "samples=np.vstack([samples1, samples2,samples3])\n",
    "c = torch.cat([torch.ones(num_samples), torch.ones(num_samples)*2, torch.ones(num_samples)*3])\n",
    "x =  torch.tensor(samples, dtype=torch.float32)"
   ]
  }
 ],
 "metadata": {
  "kernelspec": {
   "display_name": "Python 3",
   "language": "python",
   "name": "python3"
  },
  "language_info": {
   "codemirror_mode": {
    "name": "ipython",
    "version": 3
   },
   "file_extension": ".py",
   "mimetype": "text/x-python",
   "name": "python",
   "nbconvert_exporter": "python",
   "pygments_lexer": "ipython3",
   "version": "3.11.8"
  }
 },
 "nbformat": 4,
 "nbformat_minor": 2
}
